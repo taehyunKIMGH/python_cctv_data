{
  "nbformat": 4,
  "nbformat_minor": 0,
  "metadata": {
    "colab": {
      "provenance": [],
      "include_colab_link": true
    },
    "kernelspec": {
      "name": "python3",
      "display_name": "Python 3"
    },
    "language_info": {
      "name": "python"
    }
  },
  "cells": [
    {
      "cell_type": "markdown",
      "metadata": {
        "id": "view-in-github",
        "colab_type": "text"
      },
      "source": [
        "<a href=\"https://colab.research.google.com/github/taehyunKIMGH/python_cctv_data/blob/main/%EA%B9%80%ED%83%9C%ED%98%84.ipynb\" target=\"_parent\"><img src=\"https://colab.research.google.com/assets/colab-badge.svg\" alt=\"Open In Colab\"/></a>"
      ]
    },
    {
      "cell_type": "code",
      "source": [
        "import matplotlib.pyplot as plt\n",
        "import csv\n",
        "import pandas as pd\n",
        "from scipy.stats import pearsonr\n",
        "import numpy as np"
      ],
      "metadata": {
        "id": "5uUJTx-rslpb"
      },
      "execution_count": 1,
      "outputs": []
    },
    {
      "cell_type": "markdown",
      "source": [
        "cctv 개수<br>[사용한 데이터 출처](https://kosis.kr/statHtml/statHtml.do?orgId=127&tblId=DT_2014_82)"
      ],
      "metadata": {
        "id": "GXHq_604Buzp"
      }
    },
    {
      "cell_type": "code",
      "execution_count": 2,
      "metadata": {
        "id": "0X-FuBpEsMNP"
      },
      "outputs": [],
      "source": [
        "\n",
        "f_cctv = open('/content/CCTV_설치_운영_현황_20230216233331.csv', encoding = 'cp949')\n",
        "data_cctv = csv.reader(f_cctv)\n",
        "cctv = []\n",
        "\n",
        "for row in data_cctv:\n",
        "  if '지역별' in row[0]:\n",
        "    cctv.append(int(row[8]))"
      ]
    },
    {
      "cell_type": "markdown",
      "source": [
        "범죄 건수와 범죄 검거 건수<br>[사용한 데이터 출처](https://kosis.kr/statHtml/statHtml.do?orgId=101&tblId=DT_1YL20321&conn_path=I2)\n",
        "\n"
      ],
      "metadata": {
        "id": "jHMc5gLoB2ul"
      }
    },
    {
      "cell_type": "code",
      "source": [
        "f_arrest = open('/content/중요범죄발생및검거현황_시도__20230216233349.csv', encoding='cp949')\n",
        "data_arrest =  csv.reader(f_arrest)\n",
        "crime = []\n",
        "arrest = []\n",
        "\n",
        "for row in data_arrest:\n",
        "  if '전국' not in row[0]:\n",
        "    if '경찰청' not in row[0]:\n",
        "      if '해양경비 안전본부' not in row[0]:\n",
        "        if '총범죄' in row[1]:\n",
        "          crime.append(row[2])\n",
        "          arrest.append(row[3])\n",
        "\n",
        "print(crime,arrest)\n"
      ],
      "metadata": {
        "colab": {
          "base_uri": "https://localhost:8080/"
        },
        "id": "ayDF0DaL4nzL",
        "outputId": "29b3d52a-54e6-4e42-bcb1-a954096fb19b"
      },
      "execution_count": 3,
      "outputs": [
        {
          "output_type": "stream",
          "name": "stdout",
          "text": [
            "['257969', '100439', '67915', '76584', '39392', '39982', '29085', '5937', '357243', '39593', '43397', '54223', '43650', '48380', '65553', '87879', '25515'] ['189140', '78412', '54752', '60697', '33461', '31997', '24062', '4062', '282646', '33202', '34798', '42505', '35661', '39959', '54086', '70058', '20222']\n"
          ]
        }
      ]
    },
    {
      "cell_type": "markdown",
      "source": [
        "범죄 검거율"
      ],
      "metadata": {
        "id": "Yj5DBHj44NR8"
      }
    },
    {
      "cell_type": "code",
      "source": [
        "arrest_rate = []\n",
        "\n",
        "for i in range(len(crime)):\n",
        "  arrest_rate.append((int(arrest[i])/int(crime[i]))*100)\n",
        "\n",
        "\n",
        "print(arrest_rate)"
      ],
      "metadata": {
        "colab": {
          "base_uri": "https://localhost:8080/"
        },
        "id": "erUpY_w94OIF",
        "outputId": "62f8f81e-6620-4f7f-b653-f0b3c94d3999"
      },
      "execution_count": 4,
      "outputs": [
        {
          "output_type": "stream",
          "name": "stdout",
          "text": [
            "[73.31888715310755, 78.06927587889166, 80.61842008392844, 79.25545805912462, 84.94364337936638, 80.02851283077385, 82.72992951693313, 68.41839312784235, 79.11869511788895, 83.85825777283863, 80.18526626264489, 78.38924441657599, 81.69759450171821, 82.59404712691195, 82.50728418226473, 79.72097998384142, 79.25533999608074]\n"
          ]
        }
      ]
    },
    {
      "cell_type": "markdown",
      "source": [
        "지역의 면적<br>[사용한 데이터 출처](https://kosis.kr/statHtml/statHtml.do?orgId=101&tblId=DT_1ZGA17&conn_p-ath=I2)"
      ],
      "metadata": {
        "id": "469gztvdv316"
      }
    },
    {
      "cell_type": "code",
      "source": [
        "area = []\n",
        "\n",
        "data_area = pd.read_csv('/content/지역별_면적_20230216233535.csv', skiprows=17, header=None, encoding = 'cp949')\n",
        "\n",
        "for row in data_area[5]:\n",
        "  area.append(row)\n",
        "\n",
        "print(area)\n",
        "\n",
        " "
      ],
      "metadata": {
        "colab": {
          "base_uri": "https://localhost:8080/"
        },
        "id": "O54xGS4_3G3I",
        "outputId": "14688ce6-94d2-49a1-f195-6335daa0e201"
      },
      "execution_count": 5,
      "outputs": [
        {
          "output_type": "stream",
          "name": "stdout",
          "text": [
            "[605, 770, 884, 1066, 501, 540, 1062, 465, 10197, 16830, 7407, 8247, 8072, 12359, 19035, 10542, 1850]\n"
          ]
        }
      ]
    },
    {
      "cell_type": "markdown",
      "source": [
        "지역 면적 / cctv 개수"
      ],
      "metadata": {
        "id": "fHEeF7-i2y_y"
      }
    },
    {
      "cell_type": "code",
      "source": [
        "cctv_area = []\n",
        "\n",
        "for i in range(len(area)):\n",
        "  cctv_area.append(int(area[i]*1000000)/int(cctv[i]))\n",
        "\n",
        "print(cctv_area)"
      ],
      "metadata": {
        "colab": {
          "base_uri": "https://localhost:8080/"
        },
        "id": "PaGEUsQZyv0d",
        "outputId": "f641fc87-b68e-4395-b6bb-dee6a45fa05b"
      },
      "execution_count": 6,
      "outputs": [
        {
          "output_type": "stream",
          "name": "stdout",
          "text": [
            "[333.1778503365096, 3180.687854729311, 1433.5848052984256, 3183.400923365446, 1769.1927396002543, 2423.7745351065787, 8973.38403041825, 2665.1535472333985, 5261.6777822211325, 60324.094152899896, 30269.84172391387, 30881.04786618587, 37827.80662455246, 45305.91297334946, 54338.67252064641, 16184.598378776713, 35837.43365231878]\n"
          ]
        }
      ]
    },
    {
      "cell_type": "markdown",
      "source": [
        "시각화"
      ],
      "metadata": {
        "id": "9kTIjCOj34zb"
      }
    },
    {
      "cell_type": "code",
      "source": [
        "plt.rc('font', family='NanumBarunGothic') \n",
        "plt.scatter(cctv_area,arrest_rate)\n",
        "plt.xlabel('cctv 개당 면적(m^2)')\n",
        "plt.ylabel('검거율(%)')\n",
        "plt.grid(True)\n",
        "plt.show"
      ],
      "metadata": {
        "colab": {
          "base_uri": "https://localhost:8080/",
          "height": 297
        },
        "id": "gvX83Sau3Rs4",
        "outputId": "1185cbe4-45a1-42b1-cf75-023d640b3c2a"
      },
      "execution_count": 7,
      "outputs": [
        {
          "output_type": "execute_result",
          "data": {
            "text/plain": [
              "<function matplotlib.pyplot.show(*args, **kw)>"
            ]
          },
          "metadata": {},
          "execution_count": 7
        },
        {
          "output_type": "display_data",
          "data": {
            "text/plain": [
              "<Figure size 432x288 with 1 Axes>"
            ],
            "image/png": "[encoded data removed]"
          },
          "metadata": {
            "needs_background": "light"
          }
        }
      ]
    },
    {
      "cell_type": "markdown",
      "source": [
        "한국어가 안나오는 문제가 발생!!!!"
      ],
      "metadata": {
        "id": "nQrXgPO9p_Ey"
      }
    },
    {
      "cell_type": "markdown",
      "source": [
        "한국어 폰트 설치"
      ],
      "metadata": {
        "id": "ewWCdkD9943Q"
      }
    },
    {
      "cell_type": "code",
      "source": [
        "!sudo apt-get install -y fonts-nanum\n",
        "!sudo fc-cache -fv\n",
        "!rm ~/.cache/matplotlib -rf"
      ],
      "metadata": {
        "colab": {
          "base_uri": "https://localhost:8080/"
        },
        "id": "GHggH-KVClM8",
        "outputId": "0098ba9d-dd44-46d3-888f-a06d12d25bbd"
      },
      "execution_count": 8,
      "outputs": [
        {
          "output_type": "stream",
          "name": "stdout",
          "text": [
            "Reading package lists... Done\n",
            "Building dependency tree       \n",
            "Reading state information... Done\n",
            "fonts-nanum is already the newest version (20180306-3).\n",
            "The following package was automatically installed and is no longer required:\n",
            "  libnvidia-common-510\n",
            "Use 'sudo apt autoremove' to remove it.\n",
            "0 upgraded, 0 newly installed, 0 to remove and 21 not upgraded.\n",
            "/usr/share/fonts: caching, new cache contents: 0 fonts, 1 dirs\n",
            "/usr/share/fonts/truetype: caching, new cache contents: 0 fonts, 3 dirs\n",
            "/usr/share/fonts/truetype/humor-sans: caching, new cache contents: 1 fonts, 0 dirs\n",
            "/usr/share/fonts/truetype/liberation: caching, new cache contents: 16 fonts, 0 dirs\n",
            "/usr/share/fonts/truetype/nanum: caching, new cache contents: 10 fonts, 0 dirs\n",
            "/usr/local/share/fonts: caching, new cache contents: 0 fonts, 0 dirs\n",
            "/root/.local/share/fonts: skipping, no such directory\n",
            "/root/.fonts: skipping, no such directory\n",
            "/usr/share/fonts/truetype: skipping, looped directory detected\n",
            "/usr/share/fonts/truetype/humor-sans: skipping, looped directory detected\n",
            "/usr/share/fonts/truetype/liberation: skipping, looped directory detected\n",
            "/usr/share/fonts/truetype/nanum: skipping, looped directory detected\n",
            "/var/cache/fontconfig: cleaning cache directory\n",
            "/root/.cache/fontconfig: not cleaning non-existent cache directory\n",
            "/root/.fontconfig: not cleaning non-existent cache directory\n",
            "fc-cache: succeeded\n"
          ]
        }
      ]
    },
    {
      "cell_type": "markdown",
      "source": [
        "다시 시각화 불러오기"
      ],
      "metadata": {
        "id": "be6HCi-CqEP2"
      }
    },
    {
      "cell_type": "code",
      "source": [
        "plt.rc('font', family='NanumBarunGothic') \n",
        "plt.scatter(cctv_area,arrest_rate)\n",
        "plt.xlabel('cctv 개당 면적(m^2)')\n",
        "plt.ylabel('검거율(%)')\n",
        "plt.grid(True)\n",
        "plt.show"
      ],
      "metadata": {
        "colab": {
          "base_uri": "https://localhost:8080/",
          "height": 297
        },
        "id": "lYi1tYYrqHl-",
        "outputId": "12ad2ef7-3df0-4639-d263-d4455835c9b3"
      },
      "execution_count": 9,
      "outputs": [
        {
          "output_type": "execute_result",
          "data": {
            "text/plain": [
              "<function matplotlib.pyplot.show(*args, **kw)>"
            ]
          },
          "metadata": {},
          "execution_count": 9
        },
        {
          "output_type": "display_data",
          "data": {
            "text/plain": [
              "<Figure size 432x288 with 1 Axes>"
            ],
            "image/png": "[encoded data removed]"
          },
          "metadata": {
            "needs_background": "light"
          }
        }
      ]
    },
    {
      "cell_type": "markdown",
      "source": [
        "여기서 어떤 점이 어디를 뜻하는지 확인 할 수 없음!"
      ],
      "metadata": {
        "id": "NMca7odoqRPW"
      }
    },
    {
      "cell_type": "markdown",
      "source": [
        "범례 추가"
      ],
      "metadata": {
        "id": "iH3Ci3tYqcfV"
      }
    },
    {
      "cell_type": "code",
      "source": [
        "f_place = open('/content/CCTV_설치_운영_현황_20230216233331.csv', encoding = 'cp949')\n",
        "place_data = csv.reader(f_place)\n",
        "place = []\n",
        "\n",
        "for row in place_data:\n",
        "  if '지역별' in row[0]:\n",
        "    place.append(row[1])\n",
        "\n",
        "print(place)"
      ],
      "metadata": {
        "colab": {
          "base_uri": "https://localhost:8080/"
        },
        "id": "BQHNonw2qiPt",
        "outputId": "e6321e59-be68-4604-b53c-ebaa8d2b60e8"
      },
      "execution_count": 10,
      "outputs": [
        {
          "output_type": "stream",
          "name": "stdout",
          "text": [
            "['서울', '부산', '대구', '인천', '광주', '대전', '울산', '세종', '경기', '강원', '충북', '충남', '전북', '전남', '경북', '경남', '제주']\n"
          ]
        }
      ]
    },
    {
      "cell_type": "code",
      "source": [
        "plt.rc('font', family='NanumBarunGothic') \n",
        "colors = np.random.rand(len(place))\n",
        "plt.scatter(cctv_area,arrest_rate, c = colors)\n",
        "plt.xlabel('cctv 개당 면적(m^2)')\n",
        "plt.ylabel('검거율(%)')\n",
        "for i in range(len(place)):\n",
        "  plt.text(cctv_area[i], arrest_rate[i], place[i],horizontalalignment='right', fontsize = '12')\n",
        "plt.grid(True)\n",
        "plt.show"
      ],
      "metadata": {
        "colab": {
          "base_uri": "https://localhost:8080/",
          "height": 297
        },
        "id": "AjDdAv_TqgZX",
        "outputId": "fe3b9250-0f92-4bae-8a40-1aab1f928203"
      },
      "execution_count": 13,
      "outputs": [
        {
          "output_type": "execute_result",
          "data": {
            "text/plain": [
              "<function matplotlib.pyplot.show(*args, **kw)>"
            ]
          },
          "metadata": {},
          "execution_count": 13
        },
        {
          "output_type": "display_data",
          "data": {
            "text/plain": [
              "<Figure size 432x288 with 1 Axes>"
            ],
            "image/png": "[encoded data removed]"
          },
          "metadata": {
            "needs_background": "light"
          }
        }
      ]
    },
    {
      "cell_type": "markdown",
      "source": [
        "피어슨 상관계수"
      ],
      "metadata": {
        "id": "Bv1_pdnq99JT"
      }
    },
    {
      "cell_type": "code",
      "source": [
        "print(pearsonr(cctv_area, arrest_rate))"
      ],
      "metadata": {
        "colab": {
          "base_uri": "https://localhost:8080/"
        },
        "id": "sXCzTdjcHjVh",
        "outputId": "e985b152-2e70-411c-cd29-b846edcd8e86"
      },
      "execution_count": 12,
      "outputs": [
        {
          "output_type": "stream",
          "name": "stdout",
          "text": [
            "(0.43691416357534146, 0.07949716390378787)\n"
          ]
        }
      ]
    },
    {
      "cell_type": "code",
      "source": [],
      "metadata": {
        "id": "G5P90WRkpaxH"
      },
      "execution_count": 12,
      "outputs": []
    }
  ]
}