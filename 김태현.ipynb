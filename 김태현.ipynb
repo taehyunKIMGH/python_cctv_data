{
  "nbformat": 4,
  "nbformat_minor": 0,
  "metadata": {
    "colab": {
      "provenance": [],
      "include_colab_link": true
    },
    "kernelspec": {
      "name": "python3",
      "display_name": "Python 3"
    },
    "language_info": {
      "name": "python"
    }
  },
  "cells": [
    {
      "cell_type": "markdown",
      "metadata": {
        "id": "view-in-github",
        "colab_type": "text"
      },
      "source": [
        "<a href=\"https://colab.research.google.com/github/taehyunKIMGH/python_cctv_data/blob/main/%EA%B9%80%ED%83%9C%ED%98%84.ipynb\" target=\"_parent\"><img src=\"https://colab.research.google.com/assets/colab-badge.svg\" alt=\"Open In Colab\"/></a>"
      ]
    },
    {
      "cell_type": "code",
      "source": [
        "import matplotlib.pyplot as plt\n",
        "import csv\n",
        "import pandas as pd\n",
        "from scipy.stats import pearsonr"
      ],
      "metadata": {
        "id": "5uUJTx-rslpb"
      },
      "execution_count": null,
      "outputs": []
    },
    {
      "cell_type": "markdown",
      "source": [
        "cctv 개수<br>[사용한 데이터 출처](https://kosis.kr/statHtml/statHtml.do?orgId=127&tblId=DT_2014_82)"
      ],
      "metadata": {
        "id": "GXHq_604Buzp"
      }
    },
    {
      "cell_type": "code",
      "execution_count": null,
      "metadata": {
        "id": "0X-FuBpEsMNP"
      },
      "outputs": [],
      "source": [
        "\n",
        "f_cctv = open('/content/CCTV_설치_운영_현황_20221217162838.csv', encoding = 'cp949')\n",
        "data_cctv = csv.reader(f_cctv)\n",
        "cctv = []\n",
        "\n",
        "for row in data_cctv:\n",
        "  if '지역별' in row[0]:\n",
        "    cctv.append(int(row[8]))"
      ]
    },
    {
      "cell_type": "markdown",
      "source": [
        "범죄 건수와 범죄 검거 건수<br>[사용한 데이터 출처](https://kosis.kr/statHtml/statHtml.do?orgId=101&tblId=DT_1YL20321&conn_path=I2)\n",
        "\n"
      ],
      "metadata": {
        "id": "jHMc5gLoB2ul"
      }
    },
    {
      "cell_type": "code",
      "source": [
        "f_arrest = open('/content/중요범죄발생및검거현황_시도__20221217162852.csv', encoding='cp949')\n",
        "data_arrest =  csv.reader(f_arrest)\n",
        "crime = []\n",
        "arrest = []\n",
        "\n",
        "for row in data_arrest:\n",
        "  if '전국' not in row[0]:\n",
        "    if '경찰청' not in row[0]:\n",
        "      if '해양경비 안전본부' not in row[0]:\n",
        "        if '총범죄' in row[1]:\n",
        "          crime.append(row[2])\n",
        "          arrest.append(row[3])\n",
        "\n",
        "print(crime, arrest)\n"
      ],
      "metadata": {
        "colab": {
          "base_uri": "https://localhost:8080/"
        },
        "id": "ayDF0DaL4nzL",
        "outputId": "fca68d86-1b9c-47fd-9353-81240b7f83c3"
      },
      "execution_count": null,
      "outputs": [
        {
          "output_type": "stream",
          "name": "stdout",
          "text": [
            "['257969', '100439', '67915', '76584', '39392', '39982', '29085', '5937', '357243', '39593', '43397', '54223', '43650', '48380', '65553', '87879', '25515'] ['189140', '78412', '54752', '60697', '33461', '31997', '24062', '4062', '282646', '33202', '34798', '42505', '35661', '39959', '54086', '70058', '20222']\n"
          ]
        }
      ]
    },
    {
      "cell_type": "markdown",
      "source": [
        "범죄 검거율"
      ],
      "metadata": {
        "id": "Yj5DBHj44NR8"
      }
    },
    {
      "cell_type": "code",
      "source": [
        "arrest_rate = []\n",
        "\n",
        "for i in range(len(crime)):\n",
        "  arrest_rate.append((int(arrest[i])/int(crime[i]))*100)\n",
        "\n",
        "\n",
        "print(arrest_rate)"
      ],
      "metadata": {
        "colab": {
          "base_uri": "https://localhost:8080/"
        },
        "id": "erUpY_w94OIF",
        "outputId": "0e9e9e3b-e852-4b5d-c68c-f91fd0059ec5"
      },
      "execution_count": null,
      "outputs": [
        {
          "output_type": "stream",
          "name": "stdout",
          "text": [
            "[73.31888715310755, 78.06927587889166, 80.61842008392844, 79.25545805912462, 84.94364337936638, 80.02851283077385, 82.72992951693313, 68.41839312784235, 79.11869511788895, 83.85825777283863, 80.18526626264489, 78.38924441657599, 81.69759450171821, 82.59404712691195, 82.50728418226473, 79.72097998384142, 79.25533999608074]\n"
          ]
        }
      ]
    },
    {
      "cell_type": "markdown",
      "source": [
        "지역의 면적<br>[사용한 데이터 출처](https://kosis.kr/statHtml/statHtml.do?orgId=101&tblId=DT_1ZGA17&conn_p-ath=I2)"
      ],
      "metadata": {
        "id": "469gztvdv316"
      }
    },
    {
      "cell_type": "code",
      "source": [
        "area = []\n",
        "\n",
        "data_area = pd.read_csv('/content/지역별_면적_20221217162903.csv', skiprows=17, header=None, encoding = 'cp949')\n",
        "\n",
        "for row in data_area[5]:\n",
        "  area.append(row)\n",
        "\n",
        "print(area)\n",
        "\n",
        " "
      ],
      "metadata": {
        "colab": {
          "base_uri": "https://localhost:8080/"
        },
        "id": "O54xGS4_3G3I",
        "outputId": "997cde9c-96a9-45c3-c541-072e9614b502"
      },
      "execution_count": null,
      "outputs": [
        {
          "output_type": "stream",
          "name": "stdout",
          "text": [
            "[605, 770, 883, 1065, 501, 540, 1062, 465, 10195, 16830, 7407, 8246, 8070, 12348, 19034, 10541, 1850]\n"
          ]
        }
      ]
    },
    {
      "cell_type": "markdown",
      "source": [
        "지역 면적 / cctv 개수"
      ],
      "metadata": {
        "id": "fHEeF7-i2y_y"
      }
    },
    {
      "cell_type": "code",
      "source": [
        "cctv_area = []\n",
        "\n",
        "for i in range(len(area)):\n",
        "  cctv_area.append(int(area[i]*1000000)/int(cctv[i]))\n",
        "\n",
        "print(cctv_area)"
      ],
      "metadata": {
        "colab": {
          "base_uri": "https://localhost:8080/"
        },
        "id": "PaGEUsQZyv0d",
        "outputId": "d9eee515-60e5-43b4-d172-c0f4b6944224"
      },
      "execution_count": null,
      "outputs": [
        {
          "output_type": "stream",
          "name": "stdout",
          "text": [
            "[333.1778503365096, 3180.687854729311, 1431.9631030299886, 3180.414618559287, 1769.1927396002543, 2423.7745351065787, 8973.38403041825, 2665.1535472333985, 5260.645777164308, 60324.094152899896, 30269.84172391387, 30877.303347225497, 37818.43402628077, 45265.588914549655, 54335.817849119194, 16183.063129452223, 35837.43365231878]\n"
          ]
        }
      ]
    },
    {
      "cell_type": "markdown",
      "source": [
        "시각화"
      ],
      "metadata": {
        "id": "9kTIjCOj34zb"
      }
    },
    {
      "cell_type": "code",
      "source": [
        "plt.rc('font', family='NanumBarunGothic') \n",
        "plt.scatter(cctv_area,arrest_rate)\n",
        "plt.xlabel('cctv 개당 면적(m^2)')\n",
        "plt.ylabel('검거율(%)')\n",
        "plt.grid(True)\n",
        "plt.show"
      ],
      "metadata": {
        "colab": {
          "base_uri": "https://localhost:8080/",
          "height": 297
        },
        "id": "gvX83Sau3Rs4",
        "outputId": "af00c915-06ad-4785-9ac6-fb68da3090f6"
      },
      "execution_count": null,
      "outputs": [
        {
          "output_type": "execute_result",
          "data": {
            "text/plain": [
              "<function matplotlib.pyplot.show(*args, **kw)>"
            ]
          },
          "metadata": {},
          "execution_count": 16
        },
        {
          "output_type": "display_data",
          "data": {
            "text/plain": [
              "<Figure size 432x288 with 1 Axes>"
            ],
            "image/png": "[encoded data removed]"
          },
          "metadata": {
            "needs_background": "light"
          }
        }
      ]
    },
    {
      "cell_type": "code",
      "source": [
        "!sudo apt-get install -y fonts-nanum\n",
        "!sudo fc-cache -fv\n",
        "!rm ~/.cache/matplotlib -rf"
      ],
      "metadata": {
        "colab": {
          "base_uri": "https://localhost:8080/"
        },
        "id": "GHggH-KVClM8",
        "outputId": "95eb82bf-c41e-43a0-9e98-519af36ed8d8"
      },
      "execution_count": null,
      "outputs": [
        {
          "output_type": "stream",
          "name": "stdout",
          "text": [
            "Reading package lists... Done\n",
            "Building dependency tree       \n",
            "Reading state information... Done\n",
            "fonts-nanum is already the newest version (20170925-1).\n",
            "The following package was automatically installed and is no longer required:\n",
            "  libnvidia-common-460\n",
            "Use 'sudo apt autoremove' to remove it.\n",
            "0 upgraded, 0 newly installed, 0 to remove and 20 not upgraded.\n",
            "/usr/share/fonts: caching, new cache contents: 0 fonts, 1 dirs\n",
            "/usr/share/fonts/truetype: caching, new cache contents: 0 fonts, 3 dirs\n",
            "/usr/share/fonts/truetype/humor-sans: caching, new cache contents: 1 fonts, 0 dirs\n",
            "/usr/share/fonts/truetype/liberation: caching, new cache contents: 16 fonts, 0 dirs\n",
            "/usr/share/fonts/truetype/nanum: caching, new cache contents: 10 fonts, 0 dirs\n",
            "/usr/local/share/fonts: caching, new cache contents: 0 fonts, 0 dirs\n",
            "/root/.local/share/fonts: skipping, no such directory\n",
            "/root/.fonts: skipping, no such directory\n",
            "/var/cache/fontconfig: cleaning cache directory\n",
            "/root/.cache/fontconfig: not cleaning non-existent cache directory\n",
            "/root/.fontconfig: not cleaning non-existent cache directory\n",
            "fc-cache: succeeded\n"
          ]
        }
      ]
    },
    {
      "cell_type": "code",
      "source": [
        "print(pearsonr(cctv_area, arrest_rate))"
      ],
      "metadata": {
        "colab": {
          "base_uri": "https://localhost:8080/"
        },
        "id": "sXCzTdjcHjVh",
        "outputId": "139f6af9-eb62-49b8-84f0-0c9f3329407f"
      },
      "execution_count": null,
      "outputs": [
        {
          "output_type": "stream",
          "name": "stdout",
          "text": [
            "(0.4368858596749064, 0.07951887478767367)\n"
          ]
        }
      ]
    },
    {
      "cell_type": "code",
      "source": [],
      "metadata": {
        "id": "tYeYKs5pHoXb"
      },
      "execution_count": null,
      "outputs": []
    }
  ]
}